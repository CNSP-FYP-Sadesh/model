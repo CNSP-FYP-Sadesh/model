{
 "cells": [
  {
   "cell_type": "code",
   "execution_count": 148,
   "metadata": {
    "execution": {
     "iopub.execute_input": "2024-01-17T16:43:33.405234Z",
     "iopub.status.busy": "2024-01-17T16:43:33.404890Z",
     "iopub.status.idle": "2024-01-17T16:43:36.900834Z",
     "shell.execute_reply": "2024-01-17T16:43:36.899288Z",
     "shell.execute_reply.started": "2024-01-17T16:43:33.405205Z"
    }
   },
   "outputs": [],
   "source": [
    "dtrans = pd.read_csv(\"/kaggle/input/dunnhumby-the-complete-journey/transaction_data.csv\")\n",
    "dproducts = pd.read_csv(\"/kaggle/input/dunnhumby-the-complete-journey/product.csv\")\n",
    "\n",
    "\n"
   ]
  },
  {
   "cell_type": "code",
   "execution_count": 149,
   "metadata": {
    "execution": {
     "iopub.execute_input": "2024-01-17T16:43:36.903705Z",
     "iopub.status.busy": "2024-01-17T16:43:36.903223Z",
     "iopub.status.idle": "2024-01-17T16:43:36.915149Z",
     "shell.execute_reply": "2024-01-17T16:43:36.913607Z",
     "shell.execute_reply.started": "2024-01-17T16:43:36.903660Z"
    }
   },
   "outputs": [],
   "source": [
    "dproducts = dproducts[[\"PRODUCT_ID\",\"SUB_COMMODITY_DESC\"]]\n"
   ]
  },
  {
   "cell_type": "code",
   "execution_count": null,
   "metadata": {},
   "outputs": [],
   "source": []
  },
  {
   "cell_type": "code",
   "execution_count": 150,
   "metadata": {
    "execution": {
     "iopub.execute_input": "2024-01-17T16:43:36.917682Z",
     "iopub.status.busy": "2024-01-17T16:43:36.917125Z",
     "iopub.status.idle": "2024-01-17T16:43:36.977293Z",
     "shell.execute_reply": "2024-01-17T16:43:36.975699Z",
     "shell.execute_reply.started": "2024-01-17T16:43:36.917637Z"
    }
   },
   "outputs": [],
   "source": [
    "df = dtrans[[\"household_key\",\"BASKET_ID\",\"DAY\",\"PRODUCT_ID\",\"QUANTITY\",\"WEEK_NO\"]]\n"
   ]
  },
  {
   "cell_type": "code",
   "execution_count": 151,
   "metadata": {
    "execution": {
     "iopub.execute_input": "2024-01-17T16:43:36.981112Z",
     "iopub.status.busy": "2024-01-17T16:43:36.980608Z",
     "iopub.status.idle": "2024-01-17T16:43:37.549073Z",
     "shell.execute_reply": "2024-01-17T16:43:37.547746Z",
     "shell.execute_reply.started": "2024-01-17T16:43:36.981068Z"
    }
   },
   "outputs": [],
   "source": [
    "df = pd.merge(dproducts,df, on='PRODUCT_ID', how='inner')"
   ]
  },
  {
   "cell_type": "code",
   "execution_count": 152,
   "metadata": {
    "execution": {
     "iopub.execute_input": "2024-01-17T16:43:37.554114Z",
     "iopub.status.busy": "2024-01-17T16:43:37.552409Z",
     "iopub.status.idle": "2024-01-17T16:43:38.099079Z",
     "shell.execute_reply": "2024-01-17T16:43:38.097942Z",
     "shell.execute_reply.started": "2024-01-17T16:43:37.554064Z"
    }
   },
   "outputs": [],
   "source": [
    "df['user_id'] = df['household_key'].rank(method='dense').astype(int)\n"
   ]
  },
  {
   "cell_type": "code",
   "execution_count": 153,
   "metadata": {
    "execution": {
     "iopub.execute_input": "2024-01-17T16:43:38.101425Z",
     "iopub.status.busy": "2024-01-17T16:43:38.100593Z",
     "iopub.status.idle": "2024-01-17T16:43:38.527182Z",
     "shell.execute_reply": "2024-01-17T16:43:38.525879Z",
     "shell.execute_reply.started": "2024-01-17T16:43:38.101379Z"
    }
   },
   "outputs": [],
   "source": [
    "df['order_id'] = df['BASKET_ID'].rank(method='dense').astype(int)\n"
   ]
  },
  {
   "cell_type": "code",
   "execution_count": 154,
   "metadata": {
    "execution": {
     "iopub.execute_input": "2024-01-17T16:43:38.529503Z",
     "iopub.status.busy": "2024-01-17T16:43:38.529136Z",
     "iopub.status.idle": "2024-01-17T16:43:38.615406Z",
     "shell.execute_reply": "2024-01-17T16:43:38.613870Z",
     "shell.execute_reply.started": "2024-01-17T16:43:38.529471Z"
    }
   },
   "outputs": [],
   "source": [
    "df['product_id'] = df['PRODUCT_ID'].rank(method='dense').astype(int)\n"
   ]
  },
  {
   "cell_type": "code",
   "execution_count": 155,
   "metadata": {
    "execution": {
     "iopub.execute_input": "2024-01-17T16:43:38.619297Z",
     "iopub.status.busy": "2024-01-17T16:43:38.618746Z",
     "iopub.status.idle": "2024-01-17T16:43:38.733619Z",
     "shell.execute_reply": "2024-01-17T16:43:38.732638Z",
     "shell.execute_reply.started": "2024-01-17T16:43:38.619248Z"
    }
   },
   "outputs": [],
   "source": [
    "df = df.drop([\"household_key\",\"BASKET_ID\",\"PRODUCT_ID\"],axis = 1)"
   ]
  },
  {
   "cell_type": "code",
   "execution_count": 157,
   "metadata": {
    "execution": {
     "iopub.execute_input": "2024-01-17T17:07:02.661097Z",
     "iopub.status.busy": "2024-01-17T17:07:02.660470Z",
     "iopub.status.idle": "2024-01-17T17:07:02.667835Z",
     "shell.execute_reply": "2024-01-17T17:07:02.666402Z",
     "shell.execute_reply.started": "2024-01-17T17:07:02.661060Z"
    }
   },
   "outputs": [],
   "source": [
    "df.columns  = [\"commodity\",\"day\",'quantity',\"weekno\",\"user_id\",\"order_id\",\"product_id\"]"
   ]
  },
  {
   "cell_type": "code",
   "execution_count": 158,
   "metadata": {
    "execution": {
     "iopub.execute_input": "2024-01-17T17:07:08.376199Z",
     "iopub.status.busy": "2024-01-17T17:07:08.374760Z",
     "iopub.status.idle": "2024-01-17T17:07:08.393708Z",
     "shell.execute_reply": "2024-01-17T17:07:08.392313Z",
     "shell.execute_reply.started": "2024-01-17T17:07:08.376136Z"
    }
   },
   "outputs": [
    {
     "data": {
      "text/html": [
       "<div>\n",
       "<style scoped>\n",
       "    .dataframe tbody tr th:only-of-type {\n",
       "        vertical-align: middle;\n",
       "    }\n",
       "\n",
       "    .dataframe tbody tr th {\n",
       "        vertical-align: top;\n",
       "    }\n",
       "\n",
       "    .dataframe thead th {\n",
       "        text-align: right;\n",
       "    }\n",
       "</style>\n",
       "<table border=\"1\" class=\"dataframe\">\n",
       "  <thead>\n",
       "    <tr style=\"text-align: right;\">\n",
       "      <th></th>\n",
       "      <th>commodity</th>\n",
       "      <th>day</th>\n",
       "      <th>quantity</th>\n",
       "      <th>weekno</th>\n",
       "      <th>user_id</th>\n",
       "      <th>order_id</th>\n",
       "      <th>product_id</th>\n",
       "    </tr>\n",
       "  </thead>\n",
       "  <tbody>\n",
       "    <tr>\n",
       "      <th>0</th>\n",
       "      <td>ICE - CRUSHED/CUBED</td>\n",
       "      <td>157</td>\n",
       "      <td>1</td>\n",
       "      <td>23</td>\n",
       "      <td>1228</td>\n",
       "      <td>42643</td>\n",
       "      <td>1</td>\n",
       "    </tr>\n",
       "    <tr>\n",
       "      <th>1</th>\n",
       "      <td>ICE - CRUSHED/CUBED</td>\n",
       "      <td>247</td>\n",
       "      <td>1</td>\n",
       "      <td>36</td>\n",
       "      <td>358</td>\n",
       "      <td>80052</td>\n",
       "      <td>1</td>\n",
       "    </tr>\n",
       "    <tr>\n",
       "      <th>2</th>\n",
       "      <td>ICE - CRUSHED/CUBED</td>\n",
       "      <td>410</td>\n",
       "      <td>4</td>\n",
       "      <td>59</td>\n",
       "      <td>325</td>\n",
       "      <td>148127</td>\n",
       "      <td>1</td>\n",
       "    </tr>\n",
       "    <tr>\n",
       "      <th>3</th>\n",
       "      <td>NO SUBCOMMODITY DESCRIPTION</td>\n",
       "      <td>250</td>\n",
       "      <td>1</td>\n",
       "      <td>36</td>\n",
       "      <td>1675</td>\n",
       "      <td>81124</td>\n",
       "      <td>2</td>\n",
       "    </tr>\n",
       "    <tr>\n",
       "      <th>4</th>\n",
       "      <td>BREAD:ITALIAN/FRENCH</td>\n",
       "      <td>458</td>\n",
       "      <td>1</td>\n",
       "      <td>66</td>\n",
       "      <td>1032</td>\n",
       "      <td>169691</td>\n",
       "      <td>3</td>\n",
       "    </tr>\n",
       "    <tr>\n",
       "      <th>...</th>\n",
       "      <td>...</td>\n",
       "      <td>...</td>\n",
       "      <td>...</td>\n",
       "      <td>...</td>\n",
       "      <td>...</td>\n",
       "      <td>...</td>\n",
       "      <td>...</td>\n",
       "    </tr>\n",
       "    <tr>\n",
       "      <th>2595727</th>\n",
       "      <td>PAPERBACK BOOKS</td>\n",
       "      <td>710</td>\n",
       "      <td>1</td>\n",
       "      <td>102</td>\n",
       "      <td>1947</td>\n",
       "      <td>275688</td>\n",
       "      <td>92335</td>\n",
       "    </tr>\n",
       "    <tr>\n",
       "      <th>2595728</th>\n",
       "      <td>CHILDRENS LOW END</td>\n",
       "      <td>702</td>\n",
       "      <td>1</td>\n",
       "      <td>101</td>\n",
       "      <td>2022</td>\n",
       "      <td>272848</td>\n",
       "      <td>92336</td>\n",
       "    </tr>\n",
       "    <tr>\n",
       "      <th>2595729</th>\n",
       "      <td>PAPERBACK BEST SELLER</td>\n",
       "      <td>709</td>\n",
       "      <td>1</td>\n",
       "      <td>102</td>\n",
       "      <td>2070</td>\n",
       "      <td>275396</td>\n",
       "      <td>92337</td>\n",
       "    </tr>\n",
       "    <tr>\n",
       "      <th>2595730</th>\n",
       "      <td>PAPERBACK BOOKS</td>\n",
       "      <td>711</td>\n",
       "      <td>1</td>\n",
       "      <td>102</td>\n",
       "      <td>2112</td>\n",
       "      <td>276339</td>\n",
       "      <td>92338</td>\n",
       "    </tr>\n",
       "    <tr>\n",
       "      <th>2595731</th>\n",
       "      <td>PAPER TOWELS &amp; HOLDERS</td>\n",
       "      <td>710</td>\n",
       "      <td>1</td>\n",
       "      <td>102</td>\n",
       "      <td>317</td>\n",
       "      <td>275886</td>\n",
       "      <td>92339</td>\n",
       "    </tr>\n",
       "  </tbody>\n",
       "</table>\n",
       "<p>2595732 rows × 7 columns</p>\n",
       "</div>"
      ],
      "text/plain": [
       "                           commodity  day  quantity  weekno  user_id  \\\n",
       "0                ICE - CRUSHED/CUBED  157         1      23     1228   \n",
       "1                ICE - CRUSHED/CUBED  247         1      36      358   \n",
       "2                ICE - CRUSHED/CUBED  410         4      59      325   \n",
       "3        NO SUBCOMMODITY DESCRIPTION  250         1      36     1675   \n",
       "4               BREAD:ITALIAN/FRENCH  458         1      66     1032   \n",
       "...                              ...  ...       ...     ...      ...   \n",
       "2595727              PAPERBACK BOOKS  710         1     102     1947   \n",
       "2595728            CHILDRENS LOW END  702         1     101     2022   \n",
       "2595729        PAPERBACK BEST SELLER  709         1     102     2070   \n",
       "2595730              PAPERBACK BOOKS  711         1     102     2112   \n",
       "2595731       PAPER TOWELS & HOLDERS  710         1     102      317   \n",
       "\n",
       "         order_id  product_id  \n",
       "0           42643           1  \n",
       "1           80052           1  \n",
       "2          148127           1  \n",
       "3           81124           2  \n",
       "4          169691           3  \n",
       "...           ...         ...  \n",
       "2595727    275688       92335  \n",
       "2595728    272848       92336  \n",
       "2595729    275396       92337  \n",
       "2595730    276339       92338  \n",
       "2595731    275886       92339  \n",
       "\n",
       "[2595732 rows x 7 columns]"
      ]
     },
     "execution_count": 158,
     "metadata": {},
     "output_type": "execute_result"
    }
   ],
   "source": [
    "df"
   ]
  }
 ],
 "metadata": {
  "kaggle": {
   "accelerator": "none",
   "dataSources": [
    {
     "datasetId": 408408,
     "sourceId": 782411,
     "sourceType": "datasetVersion"
    },
    {
     "datasetId": 4931,
     "sourceId": 7487,
     "sourceType": "datasetVersion"
    }
   ],
   "dockerImageVersionId": 30635,
   "isGpuEnabled": false,
   "isInternetEnabled": true,
   "language": "python",
   "sourceType": "notebook"
  },
  "kernelspec": {
   "display_name": "Python 3 (ipykernel)",
   "language": "python",
   "name": "python3"
  },
  "language_info": {
   "codemirror_mode": {
    "name": "ipython",
    "version": 3
   },
   "file_extension": ".py",
   "mimetype": "text/x-python",
   "name": "python",
   "nbconvert_exporter": "python",
   "pygments_lexer": "ipython3",
   "version": "3.10.5"
  }
 },
 "nbformat": 4,
 "nbformat_minor": 4
}
